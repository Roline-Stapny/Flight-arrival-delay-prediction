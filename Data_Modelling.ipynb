{
  "nbformat": 4,
  "nbformat_minor": 0,
  "metadata": {
    "colab": {
      "name": "Data Modelling.ipynb",
      "provenance": []
    },
    "kernelspec": {
      "name": "python3",
      "display_name": "Python 3"
    }
  },
  "cells": [
    {
      "cell_type": "code",
      "metadata": {
        "id": "KTWwH2PTbU8I",
        "colab_type": "code",
        "colab": {}
      },
      "source": [
        ""
      ],
      "execution_count": 0,
      "outputs": []
    },
    {
      "cell_type": "code",
      "metadata": {
        "id": "kNldk5sixrtl",
        "colab_type": "code",
        "outputId": "511d4859-4caa-47d7-fed4-02a90619e68e",
        "colab": {
          "base_uri": "https://localhost:8080/",
          "height": 34
        }
      },
      "source": [
        "from google.colab import drive\n",
        "drive.flush_and_unmount\n",
        "drive.mount(\"/content/drive/\", force_remount=True)"
      ],
      "execution_count": 1,
      "outputs": [
        {
          "output_type": "stream",
          "text": [
            "Mounted at /content/drive/\n"
          ],
          "name": "stdout"
        }
      ]
    },
    {
      "cell_type": "code",
      "metadata": {
        "id": "BHsHHGdqcz1_",
        "colab_type": "code",
        "colab": {
          "base_uri": "https://localhost:8080/",
          "height": 264
        },
        "outputId": "97504b47-4b46-4d02-dfb0-9a68fe15c984"
      },
      "source": [
        "import pandas as pd\n",
        "df = pd.read_csv('/content/drive/My Drive/TAMUIDS/flight_delays_clean2.csv', low_memory=False)\n",
        "print('Dataframe dimensions:', df.shape)\n",
        "#____________________________________________________________\n",
        "# gives some infos on columns types and number of null values\n",
        "tab_info=pd.DataFrame(df.dtypes).T.rename(index={0:'column type'})\n",
        "tab_info=tab_info.append(pd.DataFrame(df.isnull().sum()).T.rename(index={0:'null values (nb)'}))\n",
        "tab_info=tab_info.append(pd.DataFrame(df.isnull().sum()/df.shape[0]*100)\n",
        "                         .T.rename(index={0:'null values (%)'}))\n",
        "tab_info"
      ],
      "execution_count": 2,
      "outputs": [
        {
          "output_type": "stream",
          "text": [
            "Dataframe dimensions: (10668316, 19)\n"
          ],
          "name": "stdout"
        },
        {
          "output_type": "execute_result",
          "data": {
            "text/html": [
              "<div>\n",
              "<style scoped>\n",
              "    .dataframe tbody tr th:only-of-type {\n",
              "        vertical-align: middle;\n",
              "    }\n",
              "\n",
              "    .dataframe tbody tr th {\n",
              "        vertical-align: top;\n",
              "    }\n",
              "\n",
              "    .dataframe thead th {\n",
              "        text-align: right;\n",
              "    }\n",
              "</style>\n",
              "<table border=\"1\" class=\"dataframe\">\n",
              "  <thead>\n",
              "    <tr style=\"text-align: right;\">\n",
              "      <th></th>\n",
              "      <th>DAY_OF_WEEK</th>\n",
              "      <th>FL_DATE</th>\n",
              "      <th>CARRIER</th>\n",
              "      <th>Route</th>\n",
              "      <th>ORIGIN</th>\n",
              "      <th>DEST</th>\n",
              "      <th>TAXI_OUT</th>\n",
              "      <th>TAXI_IN</th>\n",
              "      <th>ARR_TIME</th>\n",
              "      <th>ARR_DELAY</th>\n",
              "      <th>DIVERTED</th>\n",
              "      <th>DISTANCE</th>\n",
              "      <th>CARRIER_DELAY</th>\n",
              "      <th>WEATHER_DELAY</th>\n",
              "      <th>NAS_DELAY</th>\n",
              "      <th>SECURITY_DELAY</th>\n",
              "      <th>LATE_AIRCRAFT_DELAY</th>\n",
              "      <th>PASSENGERS</th>\n",
              "      <th>EMPTOTAL</th>\n",
              "    </tr>\n",
              "  </thead>\n",
              "  <tbody>\n",
              "    <tr>\n",
              "      <th>column type</th>\n",
              "      <td>int64</td>\n",
              "      <td>object</td>\n",
              "      <td>object</td>\n",
              "      <td>int64</td>\n",
              "      <td>object</td>\n",
              "      <td>object</td>\n",
              "      <td>float64</td>\n",
              "      <td>float64</td>\n",
              "      <td>object</td>\n",
              "      <td>float64</td>\n",
              "      <td>int64</td>\n",
              "      <td>int64</td>\n",
              "      <td>float64</td>\n",
              "      <td>float64</td>\n",
              "      <td>float64</td>\n",
              "      <td>float64</td>\n",
              "      <td>float64</td>\n",
              "      <td>float64</td>\n",
              "      <td>float64</td>\n",
              "    </tr>\n",
              "    <tr>\n",
              "      <th>null values (nb)</th>\n",
              "      <td>0</td>\n",
              "      <td>0</td>\n",
              "      <td>0</td>\n",
              "      <td>0</td>\n",
              "      <td>0</td>\n",
              "      <td>0</td>\n",
              "      <td>0</td>\n",
              "      <td>0</td>\n",
              "      <td>0</td>\n",
              "      <td>0</td>\n",
              "      <td>0</td>\n",
              "      <td>0</td>\n",
              "      <td>0</td>\n",
              "      <td>0</td>\n",
              "      <td>0</td>\n",
              "      <td>0</td>\n",
              "      <td>0</td>\n",
              "      <td>0</td>\n",
              "      <td>0</td>\n",
              "    </tr>\n",
              "    <tr>\n",
              "      <th>null values (%)</th>\n",
              "      <td>0</td>\n",
              "      <td>0</td>\n",
              "      <td>0</td>\n",
              "      <td>0</td>\n",
              "      <td>0</td>\n",
              "      <td>0</td>\n",
              "      <td>0</td>\n",
              "      <td>0</td>\n",
              "      <td>0</td>\n",
              "      <td>0</td>\n",
              "      <td>0</td>\n",
              "      <td>0</td>\n",
              "      <td>0</td>\n",
              "      <td>0</td>\n",
              "      <td>0</td>\n",
              "      <td>0</td>\n",
              "      <td>0</td>\n",
              "      <td>0</td>\n",
              "      <td>0</td>\n",
              "    </tr>\n",
              "  </tbody>\n",
              "</table>\n",
              "</div>"
            ],
            "text/plain": [
              "                 DAY_OF_WEEK FL_DATE  ... PASSENGERS EMPTOTAL\n",
              "column type            int64  object  ...    float64  float64\n",
              "null values (nb)           0       0  ...          0        0\n",
              "null values (%)            0       0  ...          0        0\n",
              "\n",
              "[3 rows x 19 columns]"
            ]
          },
          "metadata": {
            "tags": []
          },
          "execution_count": 2
        }
      ]
    },
    {
      "cell_type": "code",
      "metadata": {
        "id": "80Tuf-BKc50A",
        "colab_type": "code",
        "colab": {
          "base_uri": "https://localhost:8080/",
          "height": 312
        },
        "outputId": "a8679ba0-1533-4de5-d26c-7bc60dbfc050"
      },
      "source": [
        "import matplotlib.pyplot as plt\n",
        "plt.hist(df['ARR_DELAY'], color = 'blue', edgecolor = 'black', bins = 200)\n",
        "plt.title('Histogram of Arrival Delays')\n",
        "plt.xlabel('Delay (min)')\n",
        "plt.ylabel('Flights')"
      ],
      "execution_count": 3,
      "outputs": [
        {
          "output_type": "execute_result",
          "data": {
            "text/plain": [
              "Text(0, 0.5, 'Flights')"
            ]
          },
          "metadata": {
            "tags": []
          },
          "execution_count": 3
        },
        {
          "output_type": "display_data",
          "data": {
            "image/png": "[encoded data removed]",
            "text/plain": [
              "<Figure size 432x288 with 1 Axes>"
            ]
          },
          "metadata": {
            "tags": [],
            "needs_background": "light"
          }
        }
      ]
    },
    {
      "cell_type": "code",
      "metadata": {
        "id": "rEcAyR53cnv-",
        "colab_type": "code",
        "colab": {}
      },
      "source": [
        "import pandas as pd\n",
        "Flights1 = pd.read_csv('/content/drive/My Drive/TAMUIDS/flight_delays_clean2.csv', low_memory=False)"
      ],
      "execution_count": 0,
      "outputs": []
    },
    {
      "cell_type": "code",
      "metadata": {
        "id": "FYiQ2MD8bYob",
        "colab_type": "code",
        "colab": {}
      },
      "source": [
        "#Removing the extreme delays\n",
        "\n",
        "import numpy as np\n",
        "Flights1['ARR_DELAY'] = Flights1['ARR_DELAY'].apply(lambda x:x if x < 300 else np.nan)\n",
        "Flights1.dropna(how = 'any', inplace=True)\n",
        "\n",
        "\n",
        "Flights1['ARR_DELAY'] = Flights1['ARR_DELAY'].apply(lambda x:x if x > -100 else np.nan)\n",
        "Flights1.dropna(how = 'any', inplace=True)"
      ],
      "execution_count": 0,
      "outputs": []
    },
    {
      "cell_type": "code",
      "metadata": {
        "id": "vIIl9RSobhzI",
        "colab_type": "code",
        "colab": {}
      },
      "source": [
        "from sklearn.preprocessing import StandardScaler\n",
        "from sklearn.model_selection import train_test_split\n",
        "from sklearn.preprocessing import LabelEncoder\n",
        "from sklearn.linear_model import Lasso,LinearRegression,Ridge\n",
        "from sklearn.tree import DecisionTreeRegressor\n",
        "from sklearn.ensemble import RandomForestRegressor,AdaBoostRegressor,BaggingRegressor\n",
        "from sklearn.metrics import mean_absolute_error,mean_squared_error,r2_score"
      ],
      "execution_count": 0,
      "outputs": []
    },
    {
      "cell_type": "code",
      "metadata": {
        "id": "ahPg_QWGbmdd",
        "colab_type": "code",
        "colab": {}
      },
      "source": [
        "Las = Lasso()\n",
        "LinR = LinearRegression()\n",
        "Rid = Ridge()\n",
        "Rfc = RandomForestRegressor(random_state=2)\n",
        "Dtc = DecisionTreeRegressor(random_state = 2)\n",
        "Boost_Lin = AdaBoostRegressor(base_estimator=LinR,random_state=2)\n",
        "Boost_las = AdaBoostRegressor(base_estimator=Las,random_state=2)\n",
        "Boost_rid = AdaBoostRegressor(base_estimator=Rid,random_state=2)\n",
        "Bg_Lin = BaggingRegressor(base_estimator=LinR,random_state=2)\n",
        "Bg_las = BaggingRegressor(base_estimator=Las,random_state=2)\n",
        "Bg_rid = BaggingRegressor(base_estimator=Rid,random_state=2)"
      ],
      "execution_count": 0,
      "outputs": []
    },
    {
      "cell_type": "code",
      "metadata": {
        "id": "L3tURGErbp2K",
        "colab_type": "code",
        "colab": {}
      },
      "source": [
        "le = LabelEncoder()"
      ],
      "execution_count": 0,
      "outputs": []
    },
    {
      "cell_type": "code",
      "metadata": {
        "id": "zmOLN2iabtic",
        "colab_type": "code",
        "colab": {}
      },
      "source": [
        "#make catagorical values\n",
        "\n",
        "Flights1['CARRIER']= le.fit_transform(Flights1['CARRIER'])\n",
        "Flights1['ORIGIN'] = le.fit_transform(Flights1['ORIGIN'])\n",
        "Flights1['DEST'] = le.fit_transform(Flights1['DEST'])"
      ],
      "execution_count": 0,
      "outputs": []
    },
    {
      "cell_type": "code",
      "metadata": {
        "id": "f3B9bVYibzZc",
        "colab_type": "code",
        "colab": {
          "base_uri": "https://localhost:8080/",
          "height": 51
        },
        "outputId": "1cfc3492-8df8-4745-d943-1ea1062cde2b"
      },
      "source": [
        "#Split into test and train data\n",
        "df_train = Flights1[Flights1['FL_DATE'] <= '2019-03-31']\n",
        "df_test = Flights1[Flights1['FL_DATE'] > '2019-03-31']\n",
        "print(\"Shape of train Data: \", df_train.shape)\n",
        "print(\"Shape of test Data: \", df_test.shape)"
      ],
      "execution_count": 10,
      "outputs": [
        {
          "output_type": "stream",
          "text": [
            "Shape of train Data:  (8800622, 19)\n",
            "Shape of test Data:  (1831883, 19)\n"
          ],
          "name": "stdout"
        }
      ]
    },
    {
      "cell_type": "code",
      "metadata": {
        "id": "rMTpnPo5b6Ro",
        "colab_type": "code",
        "colab": {}
      },
      "source": [
        "X_train = df_train.drop(['ARR_DELAY', 'ARR_TIME', 'FL_DATE'], axis = 1)\n",
        "Y_train = df_train['ARR_DELAY']\n",
        "X_test =  df_test.drop(['ARR_DELAY', 'ARR_TIME', 'FL_DATE'], axis = 1)\n",
        "Y_test = df_test['ARR_DELAY']"
      ],
      "execution_count": 0,
      "outputs": []
    },
    {
      "cell_type": "code",
      "metadata": {
        "id": "aqeez3xWcAXw",
        "colab_type": "code",
        "colab": {}
      },
      "source": [
        "sc1=StandardScaler()\n",
        "X_train_sc=sc1.fit_transform(X_train)\n",
        "X_test_sc=sc1.transform(X_test)"
      ],
      "execution_count": 0,
      "outputs": []
    },
    {
      "cell_type": "code",
      "metadata": {
        "id": "N3TfqJxZcC-N",
        "colab_type": "code",
        "colab": {}
      },
      "source": [
        "for model, name in zip([Dtc], \n",
        "     ['Decision Tree Regressor']):\n",
        " \n",
        "    model1 = model.fit(X_train_sc,Y_train)\n",
        "    Y_predict=model1.predict(X_test_sc)\n",
        "    print(name)\n",
        "    print('Mean Absolute Error:', mean_absolute_error(Y_test, Y_predict))  \n",
        "    print('Mean Squared Error:', mean_squared_error(Y_test, Y_predict))  \n",
        "    print('Root Mean Squared Error:', np.sqrt(mean_squared_error(Y_test, Y_predict)))\n",
        "    print('R2 : ',r2_score(Y_test, Y_predict))\n",
        "    print()\n",
        "\n",
        "import matplotlib.pyplot as plt\n",
        "print(name)\n",
        "plt.scatter(Y_test, Y_predict)\n",
        "plt.title(\"Model : Decision Tree Regressor\")\n",
        "plt.xlabel(\"Truth\")\n",
        "plt.ylabel(\"Prediction\")\n",
        "plt.savefig('/content/drive/My Drive/TAMUIDS/Decision Tree Regressor.png',  bbox_inches='tight')"
      ],
      "execution_count": 0,
      "outputs": []
    },
    {
      "cell_type": "code",
      "metadata": {
        "id": "xoWAxm7jcL6j",
        "colab_type": "code",
        "colab": {
          "base_uri": "https://localhost:8080/",
          "height": 414
        },
        "outputId": "75d5e6f7-a9b6-465d-dbde-aac2f2c0fad6"
      },
      "source": [
        "for model, name in zip([LinR], \n",
        "     ['Linear Regression']):\n",
        " \n",
        "    model1 = model.fit(X_train_sc,Y_train)\n",
        "    Y_predict=model1.predict(X_test_sc)\n",
        "    print(name)\n",
        "    print('Mean Absolute Error:', mean_absolute_error(Y_test, Y_predict))  \n",
        "    print('Mean Squared Error:', mean_squared_error(Y_test, Y_predict))  \n",
        "    print('Root Mean Squared Error:', np.sqrt(mean_squared_error(Y_test, Y_predict)))\n",
        "    print('R2 : ',r2_score(Y_test, Y_predict))\n",
        "    print()\n",
        "\n",
        "import matplotlib.pyplot as plt\n",
        "print(name)\n",
        "plt.scatter(Y_test, Y_predict)\n",
        "plt.title(\"Model : Linear Regression\")\n",
        "plt.xlabel(\"Truth\")\n",
        "plt.ylabel(\"Prediction\")\n",
        "plt.savefig('/content/drive/My Drive/TAMUIDS/Linear_Regression.png',  bbox_inches='tight')"
      ],
      "execution_count": 13,
      "outputs": [
        {
          "output_type": "stream",
          "text": [
            "Linear Regression\n",
            "Mean Absolute Error: 7.560702157809635\n",
            "Mean Squared Error: 92.01690265505897\n",
            "Root Mean Squared Error: 9.592544117962605\n",
            "R2 :  0.9397749444927141\n",
            "\n",
            "Linear Regression\n"
          ],
          "name": "stdout"
        },
        {
          "output_type": "display_data",
          "data": {
            "image/png": "[encoded data removed]",
            "text/plain": [
              "<Figure size 432x288 with 1 Axes>"
            ]
          },
          "metadata": {
            "tags": [],
            "needs_background": "light"
          }
        }
      ]
    },
    {
      "cell_type": "code",
      "metadata": {
        "id": "itbacVUdcULb",
        "colab_type": "code",
        "colab": {
          "base_uri": "https://localhost:8080/",
          "height": 414
        },
        "outputId": "a22f3c69-db53-4aad-d532-79d939c32505"
      },
      "source": [
        "for model, name in zip([Las], \n",
        "     ['Lasso']):\n",
        " \n",
        "    model1 = model.fit(X_train_sc,Y_train)\n",
        "    Y_predict=model1.predict(X_test_sc)\n",
        "    print(name)\n",
        "    print('Mean Absolute Error:', mean_absolute_error(Y_test, Y_predict))  \n",
        "    print('Mean Squared Error:', mean_squared_error(Y_test, Y_predict))  \n",
        "    print('Root Mean Squared Error:', np.sqrt(mean_squared_error(Y_test, Y_predict)))\n",
        "    print('R2 : ',r2_score(Y_test, Y_predict))\n",
        "    print()\n",
        "\n",
        "\n",
        "print(name)\n",
        "plt.scatter(Y_test, Y_predict)\n",
        "plt.title(\"Model : Lasso\")\n",
        "plt.xlabel(\"Truth\")\n",
        "plt.ylabel(\"Prediction\")\n",
        "plt.savefig('/content/drive/My Drive/TAMUIDS/Lasso.png',  bbox_inches='tight')"
      ],
      "execution_count": 14,
      "outputs": [
        {
          "output_type": "stream",
          "text": [
            "Lasso\n",
            "Mean Absolute Error: 7.969919495651267\n",
            "Mean Squared Error: 99.57631154409837\n",
            "Root Mean Squared Error: 9.978793090554507\n",
            "R2 :  0.9348273119729443\n",
            "\n",
            "Lasso\n"
          ],
          "name": "stdout"
        },
        {
          "output_type": "display_data",
          "data": {
            "image/png": "[encoded data removed]",
            "text/plain": [
              "<Figure size 432x288 with 1 Axes>"
            ]
          },
          "metadata": {
            "tags": [],
            "needs_background": "light"
          }
        }
      ]
    },
    {
      "cell_type": "code",
      "metadata": {
        "id": "bHDq5h4PcZuy",
        "colab_type": "code",
        "colab": {
          "base_uri": "https://localhost:8080/",
          "height": 414
        },
        "outputId": "1aa87a1f-40ff-4dd1-ea2b-e0099ee2743e"
      },
      "source": [
        "for model, name in zip([Rid], \n",
        "     ['Ridge']):\n",
        " \n",
        "    model1 = model.fit(X_train_sc,Y_train)\n",
        "    Y_predict=model1.predict(X_test_sc)\n",
        "    print(name)\n",
        "    print('Mean Absolute Error:', mean_absolute_error(Y_test, Y_predict))  \n",
        "    print('Mean Squared Error:', mean_squared_error(Y_test, Y_predict))  \n",
        "    print('Root Mean Squared Error:', np.sqrt(mean_squared_error(Y_test, Y_predict)))\n",
        "    print('R2 : ',r2_score(Y_test, Y_predict))\n",
        "    print()\n",
        "\n",
        "print(name)\n",
        "plt.scatter(Y_test, Y_predict)\n",
        "plt.title(\"Model : Ridge\")\n",
        "plt.xlabel(\"Truth\")\n",
        "plt.ylabel(\"Prediction\")\n",
        "plt.savefig('/content/drive/My Drive/TAMUIDS/Ridge.png',  bbox_inches='tight')"
      ],
      "execution_count": 15,
      "outputs": [
        {
          "output_type": "stream",
          "text": [
            "Ridge\n",
            "Mean Absolute Error: 7.5607022512280375\n",
            "Mean Squared Error: 92.01690235791254\n",
            "Root Mean Squared Error: 9.5925441024742\n",
            "R2 :  0.9397749446871965\n",
            "\n",
            "Ridge\n"
          ],
          "name": "stdout"
        },
        {
          "output_type": "display_data",
          "data": {
            "image/png": "[encoded data removed]",
            "text/plain": [
              "<Figure size 432x288 with 1 Axes>"
            ]
          },
          "metadata": {
            "tags": [],
            "needs_background": "light"
          }
        }
      ]
    },
    {
      "cell_type": "code",
      "metadata": {
        "id": "UUtbcrcqcg1G",
        "colab_type": "code",
        "colab": {}
      },
      "source": [
        "for model, name in zip([Bg_Lin], \n",
        "     ['Bagged Linear']):\n",
        " \n",
        "    model1 = model.fit(X_train_sc,Y_train)\n",
        "    Y_predict=model1.predict(X_test_sc)\n",
        "    print(name)\n",
        "    print('Mean Absolute Error:', mean_absolute_error(Y_test, Y_predict))  \n",
        "    print('Mean Squared Error:', mean_squared_error(Y_test, Y_predict))  \n",
        "    print('Root Mean Squared Error:', np.sqrt(mean_squared_error(Y_test, Y_predict)))\n",
        "    print('R2 : ',r2_score(Y_test, Y_predict))\n",
        "    print()\n",
        "  \n",
        "print(name)\n",
        "plt.scatter(Y_test, Y_predict)\n",
        "plt.title(\"Model : Bagged Linear\")\n",
        "plt.xlabel(\"Truth\")\n",
        "plt.ylabel(\"Prediction\")\n",
        "plt.savefig('/content/drive/My Drive/TAMUIDS/Bagged Linear.png',  bbox_inches='tight')"
      ],
      "execution_count": 0,
      "outputs": []
    },
    {
      "cell_type": "code",
      "metadata": {
        "id": "PeYRqNWriFAC",
        "colab_type": "code",
        "colab": {}
      },
      "source": [
        ""
      ],
      "execution_count": 0,
      "outputs": []
    }
  ]
}